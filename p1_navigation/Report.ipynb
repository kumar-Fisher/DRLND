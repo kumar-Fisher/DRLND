{
 "cells": [
  {
   "cell_type": "markdown",
   "metadata": {},
   "source": [
    "# Algorithm implementation details\n",
    "\n",
    "### Q-Network Class\n",
    "Q-Network class implemnts the neural network which consists of two fully connected (FC) hidden layers.\n",
    "First FC late has 1024 nodes connected to input layer and second FC layer has 64 nodes connected to output layer. \n",
    "Both of the Fully Connected layers have RELU activation function. The input has 37 nodes (environment state ) \n",
    "and the output has 4 nodes (action space).The two hidden layers and the RELU activation function are chosen to achieve non-linearity. Whereas, \n",
    "the high number of nodes are selected so the model can have better learning capability. \n",
    "\n",
    "### Replay Buffer\n",
    "Replay Buffer is used to stores tuples of state, action, reward, next state and done flag of an experience once the replay \n",
    "buffer size is more then the Batch size then the nural network is trained. To overcome the problem of co-relation sampling of the experience are\n",
    "sampled from the replay buffer randomly.\n",
    "\n",
    "### Agent\n",
    "\n",
    "Agents interacts with the environment and and get experince and update the replay buffer.Once the replay buffer is grater then the batch size\n",
    "then the nural network trained.\n",
    "\n",
    "\n",
    "### Training\n",
    "\n",
    "Discount factor (gamma) for training is set high at 0.99 and the exploration value epsilon start at high value (1.0) but then gradually going \n",
    "down to 0.01. The target average score of 13 or higher in 100 episodes window was achieved in 472 episodes. The learning progress is shown below.\n",
    "\n",
    "![Learning Scores](./image/score_vs_episode.PNG)\n",
    "\n",
    "### Agent Performance\n",
    "\n",
    "Initially, when the exploration value was 0.01, the agent was trapped state-action loop. \n",
    "After makeing it higher at 0.1, the trained agent performd much batter and easily achieved score of 13.\n",
    "\n",
    "### Future Work\n",
    "Double DQN method can be used for faster and more stable learning.\n",
    "Prioritized Experience Buffer can be used.\n",
    "As currently the Q-Network uses massive first fully connected node 1024 \n",
    "just to make sure that agent has the capability to perform well this can be reduced to 256"
   ]
  },
  {
   "cell_type": "code",
   "execution_count": null,
   "metadata": {},
   "outputs": [],
   "source": []
  }
 ],
 "metadata": {
  "kernelspec": {
   "display_name": "Python 3",
   "language": "python",
   "name": "python3"
  },
  "language_info": {
   "codemirror_mode": {
    "name": "ipython",
    "version": 3
   },
   "file_extension": ".py",
   "mimetype": "text/x-python",
   "name": "python",
   "nbconvert_exporter": "python",
   "pygments_lexer": "ipython3",
   "version": "3.7.6"
  }
 },
 "nbformat": 4,
 "nbformat_minor": 4
}
